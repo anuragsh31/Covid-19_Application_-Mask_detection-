{
 "cells": [
  {
   "cell_type": "code",
   "execution_count": 66,
   "id": "ac09b7ba",
   "metadata": {},
   "outputs": [],
   "source": [
    "from tensorflow.keras.applications.mobilenet_v2 import preprocess_input\n",
    "from tensorflow.keras.preprocessing.image import img_to_array\n",
    "from tensorflow.keras.models import load_model\n",
    "import numpy as np\n",
    "import cv2\n",
    "import os\n",
    "from imutils.video import VideoStream\n",
    "import imutils"
   ]
  },
  {
   "cell_type": "code",
   "execution_count": 67,
   "id": "5fe6ac5b",
   "metadata": {},
   "outputs": [],
   "source": [
    "prototxtPath=os.path.sep.join([r'C:\\Learning\\Git Repository\\Mask_Detection\\face_detector','deploy.prototxt'])\n",
    "weightsPaths=os.path.sep.join([r'C:\\Learning\\Git Repository\\Mask_Detection\\face_detector','res10_300x300_ssd_iter_140000.caffemodel'])\n",
    "\n"
   ]
  },
  {
   "cell_type": "code",
   "execution_count": 68,
   "id": "ce9c50fe",
   "metadata": {},
   "outputs": [
    {
     "data": {
      "text/plain": [
       "'C:\\\\Learning\\\\Git Repository\\\\Mask_Detection\\\\face_detector\\\\deploy.prototxt'"
      ]
     },
     "execution_count": 68,
     "metadata": {},
     "output_type": "execute_result"
    }
   ],
   "source": [
    "prototxtPath"
   ]
  },
  {
   "cell_type": "code",
   "execution_count": 69,
   "id": "108ca1c3",
   "metadata": {},
   "outputs": [],
   "source": [
    "net=cv2.dnn.readNet(prototxtPath,weightsPaths)"
   ]
  },
  {
   "cell_type": "code",
   "execution_count": null,
   "id": "6a79c668",
   "metadata": {},
   "outputs": [],
   "source": []
  },
  {
   "cell_type": "code",
   "execution_count": 70,
   "id": "02e71d0a",
   "metadata": {},
   "outputs": [],
   "source": [
    "model=load_model(r'C:\\Learning\\Git Repository\\Mask_Detection\\mobilenet_v2.model')"
   ]
  },
  {
   "cell_type": "code",
   "execution_count": 75,
   "id": "b0ef90b1",
   "metadata": {},
   "outputs": [],
   "source": [
    "image=cv2.imread(r'C:\\Learning\\Git Repository\\Mask_Detection\\data\\with_mask\\0-with-mask.jpg')"
   ]
  },
  {
   "cell_type": "code",
   "execution_count": 76,
   "id": "17b9a45d",
   "metadata": {},
   "outputs": [
    {
     "data": {
      "text/plain": [
       "array([[[38, 66, 60],\n",
       "        [35, 63, 57],\n",
       "        [32, 59, 50],\n",
       "        ...,\n",
       "        [11, 37, 31],\n",
       "        [18, 41, 36],\n",
       "        [13, 29, 22]],\n",
       "\n",
       "       [[35, 63, 57],\n",
       "        [32, 60, 54],\n",
       "        [31, 58, 49],\n",
       "        ...,\n",
       "        [15, 38, 33],\n",
       "        [21, 44, 36],\n",
       "        [15, 31, 24]],\n",
       "\n",
       "       [[32, 58, 52],\n",
       "        [31, 57, 51],\n",
       "        [31, 55, 47],\n",
       "        ...,\n",
       "        [17, 40, 32],\n",
       "        [24, 45, 37],\n",
       "        [20, 34, 28]],\n",
       "\n",
       "       ...,\n",
       "\n",
       "       [[30, 71, 56],\n",
       "        [31, 72, 57],\n",
       "        [35, 71, 57],\n",
       "        ...,\n",
       "        [12, 12, 18],\n",
       "        [12, 12, 18],\n",
       "        [12, 12, 18]],\n",
       "\n",
       "       [[27, 69, 52],\n",
       "        [28, 70, 53],\n",
       "        [32, 68, 54],\n",
       "        ...,\n",
       "        [13, 12, 21],\n",
       "        [13, 12, 21],\n",
       "        [13, 12, 21]],\n",
       "\n",
       "       [[26, 68, 51],\n",
       "        [27, 69, 52],\n",
       "        [31, 67, 53],\n",
       "        ...,\n",
       "        [13, 12, 21],\n",
       "        [13, 12, 21],\n",
       "        [13, 12, 21]]], dtype=uint8)"
      ]
     },
     "execution_count": 76,
     "metadata": {},
     "output_type": "execute_result"
    }
   ],
   "source": [
    "image"
   ]
  },
  {
   "cell_type": "code",
   "execution_count": 78,
   "id": "8c3c1c26",
   "metadata": {},
   "outputs": [],
   "source": [
    "(h,w)=image.shape[:2]"
   ]
  },
  {
   "cell_type": "code",
   "execution_count": 79,
   "id": "15a25f64",
   "metadata": {},
   "outputs": [
    {
     "data": {
      "text/plain": [
       "(350, 525)"
      ]
     },
     "execution_count": 79,
     "metadata": {},
     "output_type": "execute_result"
    }
   ],
   "source": [
    "(h,w)"
   ]
  },
  {
   "cell_type": "code",
   "execution_count": 81,
   "id": "0bf61a65",
   "metadata": {},
   "outputs": [],
   "source": [
    "blob=cv2.dnn.blobFromImage(image,1.0,(300,300),(104.0,177.0,123.0))"
   ]
  },
  {
   "cell_type": "code",
   "execution_count": 82,
   "id": "d0ba0f50",
   "metadata": {},
   "outputs": [
    {
     "data": {
      "text/plain": [
       "array([[[[ -67.,  -73.,  -75., ...,  -74.,  -93.,  -89.],\n",
       "         [ -71.,  -73.,  -74., ...,  -82.,  -90.,  -86.],\n",
       "         [ -74.,  -74.,  -74., ...,  -94.,  -87.,  -80.],\n",
       "         ...,\n",
       "         [ -73.,  -68.,  -69., ...,  -93.,  -93.,  -93.],\n",
       "         [ -76.,  -71.,  -71., ...,  -91.,  -91.,  -91.],\n",
       "         [ -78.,  -73.,  -75., ...,  -91.,  -91.,  -91.]],\n",
       "\n",
       "        [[-113., -119., -124., ..., -123., -140., -144.],\n",
       "         [-116., -120., -123., ..., -133., -139., -141.],\n",
       "         [-121., -123., -123., ..., -147., -138., -137.],\n",
       "         ...,\n",
       "         [-105., -105., -109., ..., -165., -166., -166.],\n",
       "         [-107., -109., -111., ..., -164., -165., -165.],\n",
       "         [-109., -110., -115., ..., -164., -165., -165.]],\n",
       "\n",
       "        [[ -65.,  -74.,  -80., ...,  -74.,  -92.,  -96.],\n",
       "         [ -68.,  -75.,  -79., ...,  -85.,  -91.,  -94.],\n",
       "         [ -73.,  -77.,  -78., ..., -101.,  -91.,  -90.],\n",
       "         ...,\n",
       "         [ -66.,  -65.,  -66., ..., -107., -106., -106.],\n",
       "         [ -70.,  -69.,  -71., ..., -104., -103., -103.],\n",
       "         [ -72.,  -70.,  -74., ..., -104., -102., -102.]]]], dtype=float32)"
      ]
     },
     "execution_count": 82,
     "metadata": {},
     "output_type": "execute_result"
    }
   ],
   "source": [
    "blob"
   ]
  },
  {
   "cell_type": "code",
   "execution_count": 83,
   "id": "1aa56e54",
   "metadata": {},
   "outputs": [
    {
     "data": {
      "text/plain": [
       "(1, 3, 300, 300)"
      ]
     },
     "execution_count": 83,
     "metadata": {},
     "output_type": "execute_result"
    }
   ],
   "source": [
    "blob.shape"
   ]
  },
  {
   "cell_type": "code",
   "execution_count": 84,
   "id": "56eb2dad",
   "metadata": {},
   "outputs": [],
   "source": [
    "net.setInput(blob)\n",
    "detections=net.forward()"
   ]
  },
  {
   "cell_type": "code",
   "execution_count": 85,
   "id": "d28824c8",
   "metadata": {},
   "outputs": [
    {
     "data": {
      "text/plain": [
       "array([[[[0.        , 1.        , 0.84326315, ..., 0.16504614,\n",
       "          0.68534595, 0.5733571 ],\n",
       "         [0.        , 1.        , 0.12824994, ..., 3.9947865 ,\n",
       "          0.84038293, 4.98498   ],\n",
       "         [0.        , 1.        , 0.12618425, ..., 3.997875  ,\n",
       "          4.8332477 , 4.9883804 ],\n",
       "         ...,\n",
       "         [0.        , 0.        , 0.        , ..., 0.        ,\n",
       "          0.        , 0.        ],\n",
       "         [0.        , 0.        , 0.        , ..., 0.        ,\n",
       "          0.        , 0.        ],\n",
       "         [0.        , 0.        , 0.        , ..., 0.        ,\n",
       "          0.        , 0.        ]]]], dtype=float32)"
      ]
     },
     "execution_count": 85,
     "metadata": {},
     "output_type": "execute_result"
    }
   ],
   "source": [
    "detections"
   ]
  },
  {
   "cell_type": "code",
   "execution_count": null,
   "id": "2233770c",
   "metadata": {},
   "outputs": [],
   "source": []
  },
  {
   "cell_type": "code",
   "execution_count": null,
   "id": "ce2cfd50",
   "metadata": {},
   "outputs": [],
   "source": []
  },
  {
   "cell_type": "code",
   "execution_count": 87,
   "id": "764cdcf8",
   "metadata": {},
   "outputs": [
    {
     "name": "stdout",
     "output_type": "stream",
     "text": [
      "1/1 [==============================] - 0s 49ms/step\n"
     ]
    }
   ],
   "source": [
    "#loop over the detections\n",
    "for i in range(0,detections.shape[2]):\n",
    "    confidence=detections[0,0,i,2]\n",
    "    \n",
    "    \n",
    "    if confidence>0.5:\n",
    "        #we need the X,Y coordinates\n",
    "        box=detections[0,0,i,3:7]*np.array([w,h,w,h])\n",
    "        (startX,startY,endX,endY)=box.astype('int')\n",
    "        \n",
    "        #ensure the bounding boxes fall within the dimensions of the frame\n",
    "        (startX,startY)=(max(0,startX),max(0,startY))\n",
    "        (endX,endY)=(min(w-1,endX), min(h-1,endY))\n",
    "        \n",
    "        \n",
    "        #extract the face ROI, convert it from BGR to RGB channel, resize it to 224,224 and preprocess it\n",
    "        face=image[startY:endY, startX:endX]\n",
    "        face=cv2.cvtColor(face,cv2.COLOR_BGR2RGB)\n",
    "        face=cv2.resize(face,(224,224))\n",
    "        face=img_to_array(face)\n",
    "        face=preprocess_input(face)\n",
    "        face=np.expand_dims(face,axis=0)\n",
    "        \n",
    "        (mask,withoutMask)=model.predict(face)[0]\n",
    "        \n",
    "        #determine the class label and color we will use to draw the bounding box and text\n",
    "        label='Mask' if mask>withoutMask else 'No Mask'\n",
    "        color=(0,255,0) if label=='Mask' else (0,0,255)\n",
    "        \n",
    "        #include the probability in the label\n",
    "        label=\"{}: {:.2f}%\".format(label,max(mask,withoutMask)*100)\n",
    "        \n",
    "        #display the label and bounding boxes\n",
    "        cv2.putText(image,label,(startX,startY-10),cv2.FONT_HERSHEY_SIMPLEX,0.45,color,2)\n",
    "        cv2.rectangle(image,(startX,startY),(endX,endY),color,2)\n",
    "        \n",
    "        \n",
    "        \n",
    "cv2.imshow(\"OutPut\",image)\n",
    "cv2.waitKey(0)\n",
    "cv2.destroyAllWindows()"
   ]
  },
  {
   "cell_type": "code",
   "execution_count": null,
   "id": "eb13f059",
   "metadata": {},
   "outputs": [],
   "source": []
  }
 ],
 "metadata": {
  "kernelspec": {
   "display_name": "Python 3 (ipykernel)",
   "language": "python",
   "name": "python3"
  },
  "language_info": {
   "codemirror_mode": {
    "name": "ipython",
    "version": 3
   },
   "file_extension": ".py",
   "mimetype": "text/x-python",
   "name": "python",
   "nbconvert_exporter": "python",
   "pygments_lexer": "ipython3",
   "version": "3.10.4"
  }
 },
 "nbformat": 4,
 "nbformat_minor": 5
}

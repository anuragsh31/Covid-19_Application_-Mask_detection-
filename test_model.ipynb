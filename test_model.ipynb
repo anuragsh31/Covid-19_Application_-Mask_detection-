{
 "cells": [
  {
   "cell_type": "code",
   "execution_count": 146,
   "id": "ac09b7ba",
   "metadata": {},
   "outputs": [],
   "source": [
    "from tensorflow.keras.applications.mobilenet_v2 import preprocess_input\n",
    "from tensorflow.keras.preprocessing.image import img_to_array\n",
    "from tensorflow.keras.models import load_model\n",
    "import numpy as np\n",
    "import cv2\n",
    "import os\n",
    "from imutils.video import VideoStream\n",
    "import imutils"
   ]
  },
  {
   "cell_type": "code",
   "execution_count": 147,
   "id": "5fe6ac5b",
   "metadata": {},
   "outputs": [],
   "source": [
    "prototxtPath=os.path.sep.join([r'C:\\Learning\\Git Repository\\Mask_Detection\\face_detector','deploy.prototxt'])\n",
    "weightsPaths=os.path.sep.join([r'C:\\Learning\\Git Repository\\Mask_Detection\\face_detector','res10_300x300_ssd_iter_140000.caffemodel'])\n",
    "\n"
   ]
  },
  {
   "cell_type": "code",
   "execution_count": 148,
   "id": "ce9c50fe",
   "metadata": {},
   "outputs": [
    {
     "data": {
      "text/plain": [
       "'C:\\\\Learning\\\\Git Repository\\\\Mask_Detection\\\\face_detector\\\\deploy.prototxt'"
      ]
     },
     "execution_count": 148,
     "metadata": {},
     "output_type": "execute_result"
    }
   ],
   "source": [
    "prototxtPath"
   ]
  },
  {
   "cell_type": "code",
   "execution_count": 149,
   "id": "108ca1c3",
   "metadata": {},
   "outputs": [],
   "source": [
    "net=cv2.dnn.readNet(prototxtPath,weightsPaths)"
   ]
  },
  {
   "cell_type": "code",
   "execution_count": null,
   "id": "6a79c668",
   "metadata": {},
   "outputs": [],
   "source": []
  },
  {
   "cell_type": "code",
   "execution_count": 150,
   "id": "02e71d0a",
   "metadata": {},
   "outputs": [],
   "source": [
    "model=load_model(r'C:\\Learning\\Git Repository\\Mask_Detection\\mobilenet_v2.model')"
   ]
  },
  {
   "cell_type": "code",
   "execution_count": 217,
   "id": "b0ef90b1",
   "metadata": {},
   "outputs": [],
   "source": [
    "image=cv2.imread(r'C:\\Learning\\Git Repository\\Mask_Detection\\Detaset_example\\images03.jpg')\n"
   ]
  },
  {
   "cell_type": "code",
   "execution_count": 218,
   "id": "17b9a45d",
   "metadata": {},
   "outputs": [
    {
     "data": {
      "text/plain": [
       "array([[[123, 170, 168],\n",
       "        [ 81, 123, 122],\n",
       "        [161, 191, 192],\n",
       "        ...,\n",
       "        [210, 211, 207],\n",
       "        [211, 208, 204],\n",
       "        [208, 205, 201]],\n",
       "\n",
       "       [[123, 170, 168],\n",
       "        [ 81, 123, 122],\n",
       "        [161, 191, 192],\n",
       "        ...,\n",
       "        [212, 211, 207],\n",
       "        [211, 208, 204],\n",
       "        [209, 206, 202]],\n",
       "\n",
       "       [[123, 170, 168],\n",
       "        [ 81, 123, 122],\n",
       "        [161, 191, 192],\n",
       "        ...,\n",
       "        [215, 212, 207],\n",
       "        [212, 209, 204],\n",
       "        [211, 207, 202]],\n",
       "\n",
       "       ...,\n",
       "\n",
       "       [[ 21,  14,  57],\n",
       "        [ 20,  16,  52],\n",
       "        [ 45,  42,  68],\n",
       "        ...,\n",
       "        [ 35,  20,  11],\n",
       "        [ 43,  27,  20],\n",
       "        [ 36,  20,  14]],\n",
       "\n",
       "       [[ 43,  36,  79],\n",
       "        [ 14,  10,  46],\n",
       "        [ 48,  45,  71],\n",
       "        ...,\n",
       "        [ 35,  20,  11],\n",
       "        [ 43,  27,  20],\n",
       "        [ 36,  20,  14]],\n",
       "\n",
       "       [[ 94,  87, 130],\n",
       "        [ 42,  38,  74],\n",
       "        [ 39,  36,  62],\n",
       "        ...,\n",
       "        [ 35,  20,  11],\n",
       "        [ 43,  27,  20],\n",
       "        [ 36,  20,  14]]], dtype=uint8)"
      ]
     },
     "execution_count": 218,
     "metadata": {},
     "output_type": "execute_result"
    }
   ],
   "source": [
    "image"
   ]
  },
  {
   "cell_type": "code",
   "execution_count": 219,
   "id": "8c3c1c26",
   "metadata": {},
   "outputs": [],
   "source": [
    "(h,w)=image.shape[:2]"
   ]
  },
  {
   "cell_type": "code",
   "execution_count": 220,
   "id": "15a25f64",
   "metadata": {},
   "outputs": [
    {
     "data": {
      "text/plain": [
       "(180, 280)"
      ]
     },
     "execution_count": 220,
     "metadata": {},
     "output_type": "execute_result"
    }
   ],
   "source": [
    "(h,w)"
   ]
  },
  {
   "cell_type": "code",
   "execution_count": 221,
   "id": "0bf61a65",
   "metadata": {},
   "outputs": [],
   "source": [
    "blob=cv2.dnn.blobFromImage(image,1.0,(300,300),(104.0,177.0,123.0))"
   ]
  },
  {
   "cell_type": "code",
   "execution_count": 222,
   "id": "d0ba0f50",
   "metadata": {},
   "outputs": [
    {
     "data": {
      "text/plain": [
       "array([[[[  19.,  -19.,   44., ...,  106.,  107.,  104.],\n",
       "         [  19.,  -19.,   44., ...,  107.,  107.,  104.],\n",
       "         [  19.,  -19.,   44., ...,  108.,  107.,  105.],\n",
       "         ...,\n",
       "         [ -61.,  -87.,  -62., ...,  -68.,  -62.,  -68.],\n",
       "         [ -31.,  -69.,  -64., ...,  -68.,  -62.,  -68.],\n",
       "         [ -10.,  -57.,  -65., ...,  -68.,  -62.,  -68.]],\n",
       "\n",
       "        [[  -7.,  -49.,    2., ...,   33.,   31.,   28.],\n",
       "         [  -7.,  -49.,    3., ...,   33.,   31.,   28.],\n",
       "         [  -7.,  -49.,    3., ...,   34.,   31.,   29.],\n",
       "         ...,\n",
       "         [-141., -164., -138., ..., -156., -151., -157.],\n",
       "         [-111., -146., -140., ..., -156., -151., -157.],\n",
       "         [ -90., -134., -141., ..., -156., -151., -157.]],\n",
       "\n",
       "        [[  45.,    4.,   57., ...,   83.,   81.,   78.],\n",
       "         [  45.,    3.,   57., ...,   83.,   80.,   78.],\n",
       "         [  45.,    4.,   57., ...,   84.,   81.,   79.],\n",
       "         ...,\n",
       "         [ -44.,  -74.,  -56., ..., -111., -104., -109.],\n",
       "         [ -13.,  -56.,  -58., ..., -111., -104., -109.],\n",
       "         [   7.,  -44.,  -59., ..., -111., -104., -109.]]]], dtype=float32)"
      ]
     },
     "execution_count": 222,
     "metadata": {},
     "output_type": "execute_result"
    }
   ],
   "source": [
    "blob"
   ]
  },
  {
   "cell_type": "code",
   "execution_count": 223,
   "id": "1aa56e54",
   "metadata": {},
   "outputs": [
    {
     "data": {
      "text/plain": [
       "(1, 3, 300, 300)"
      ]
     },
     "execution_count": 223,
     "metadata": {},
     "output_type": "execute_result"
    }
   ],
   "source": [
    "blob.shape"
   ]
  },
  {
   "cell_type": "code",
   "execution_count": 224,
   "id": "56eb2dad",
   "metadata": {},
   "outputs": [],
   "source": [
    "net.setInput(blob)\n",
    "detections=net.forward()"
   ]
  },
  {
   "cell_type": "code",
   "execution_count": 225,
   "id": "d28824c8",
   "metadata": {},
   "outputs": [
    {
     "data": {
      "text/plain": [
       "array([[[[0.        , 1.        , 0.9981135 , ..., 0.58194125,\n",
       "          0.427413  , 0.88312006],\n",
       "         [0.        , 1.        , 0.9930099 , ..., 0.35360545,\n",
       "          0.8363572 , 0.6033377 ],\n",
       "         [0.        , 1.        , 0.9928404 , ..., 0.1538603 ,\n",
       "          0.26527372, 0.31458342],\n",
       "         ...,\n",
       "         [0.        , 0.        , 0.        , ..., 0.        ,\n",
       "          0.        , 0.        ],\n",
       "         [0.        , 0.        , 0.        , ..., 0.        ,\n",
       "          0.        , 0.        ],\n",
       "         [0.        , 0.        , 0.        , ..., 0.        ,\n",
       "          0.        , 0.        ]]]], dtype=float32)"
      ]
     },
     "execution_count": 225,
     "metadata": {},
     "output_type": "execute_result"
    }
   ],
   "source": [
    "detections"
   ]
  },
  {
   "cell_type": "code",
   "execution_count": null,
   "id": "2233770c",
   "metadata": {},
   "outputs": [],
   "source": []
  },
  {
   "cell_type": "code",
   "execution_count": null,
   "id": "ce2cfd50",
   "metadata": {},
   "outputs": [],
   "source": []
  },
  {
   "cell_type": "code",
   "execution_count": 226,
   "id": "764cdcf8",
   "metadata": {},
   "outputs": [
    {
     "name": "stdout",
     "output_type": "stream",
     "text": [
      "1/1 [==============================] - 0s 71ms/step\n",
      "1/1 [==============================] - 0s 72ms/step\n",
      "1/1 [==============================] - 0s 84ms/step\n",
      "1/1 [==============================] - 0s 93ms/step\n",
      "1/1 [==============================] - 0s 75ms/step\n",
      "1/1 [==============================] - 0s 84ms/step\n",
      "1/1 [==============================] - 0s 73ms/step\n"
     ]
    }
   ],
   "source": [
    "#loop over the detections\n",
    "for i in range(0,detections.shape[2]):\n",
    "    confidence=detections[0,0,i,2]\n",
    "    \n",
    "    \n",
    "    if confidence>0.5:\n",
    "        #we need the X,Y coordinates\n",
    "        box=detections[0,0,i,3:7]*np.array([w,h,w,h])\n",
    "        (startX,startY,endX,endY)=box.astype('int')\n",
    "        \n",
    "        #ensure the bounding boxes fall within the dimensions of the frame\n",
    "        (startX,startY)=(max(0,startX),max(0,startY))\n",
    "        (endX,endY)=(min(w-1,endX), min(h-1,endY))\n",
    "        \n",
    "        \n",
    "        #extract the face ROI, convert it from BGR to RGB channel, resize it to 224,224 and preprocess it\n",
    "        face=image[startY:endY, startX:endX]\n",
    "        face=cv2.cvtColor(face,cv2.COLOR_BGR2RGB)\n",
    "        face=cv2.resize(face,(224,224))\n",
    "        face=img_to_array(face)\n",
    "        face=preprocess_input(face)\n",
    "        face=np.expand_dims(face,axis=0)\n",
    "        \n",
    "        (mask,withoutMask)=model.predict(face)[0]\n",
    "        \n",
    "        #determine the class label and color we will use to draw the bounding box and text\n",
    "        label='Mask' if mask>withoutMask else 'No Mask'\n",
    "        color=(0,255,0) if label=='Mask' else (0,0,255)\n",
    "        \n",
    "        #include the probability in the label\n",
    "        label=\"{}: {:.2f}%\".format(label,max(mask,withoutMask)*100)\n",
    "        \n",
    "        #display the label and bounding boxes\n",
    "        cv2.putText(image,label,(startX,startY-10),cv2.FONT_HERSHEY_SIMPLEX,0.45,color,2)\n",
    "        cv2.rectangle(image,(startX,startY),(endX,endY),color,2)\n",
    "        \n",
    "        \n",
    "        \n",
    "cv2.imshow(\"OutPut\",image)\n",
    "cv2.waitKey(0)\n",
    "cv2.destroyAllWindows()"
   ]
  },
  {
   "cell_type": "code",
   "execution_count": null,
   "id": "eb13f059",
   "metadata": {},
   "outputs": [],
   "source": []
  }
 ],
 "metadata": {
  "kernelspec": {
   "display_name": "Python 3 (ipykernel)",
   "language": "python",
   "name": "python3"
  },
  "language_info": {
   "codemirror_mode": {
    "name": "ipython",
    "version": 3
   },
   "file_extension": ".py",
   "mimetype": "text/x-python",
   "name": "python",
   "nbconvert_exporter": "python",
   "pygments_lexer": "ipython3",
   "version": "3.10.4"
  }
 },
 "nbformat": 4,
 "nbformat_minor": 5
}
